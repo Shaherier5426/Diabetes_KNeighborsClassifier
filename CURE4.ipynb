{
 "cells": [
  {
   "cell_type": "code",
   "execution_count": 59,
   "id": "8d1f6d2a",
   "metadata": {},
   "outputs": [],
   "source": [
    "import numpy as np\n",
    "import pandas as pd\n",
    "from pandas import Series, DataFrame\n",
    "import seaborn as sns\n",
    "import matplotlib.pyplot as plt"
   ]
  },
  {
   "cell_type": "markdown",
   "id": "30202b60",
   "metadata": {},
   "source": [
    "## Task 1\n",
    "\n",
    "#### the original dataset is 760 rows but we decided on using the first 200\n",
    "#### below is the code that belongs to Task 1"
   ]
  },
  {
   "cell_type": "code",
   "execution_count": 91,
   "id": "cb28c02b",
   "metadata": {},
   "outputs": [],
   "source": [
    "# TASK 1\n",
    "data = pd.read_excel(r'C:\\Users\\Mohammed\\Documents\\ENDG319\\CURE2\\Diabetes.xlsx')\n",
    "Data_used = data.iloc[0:200, :]\n",
    "df = pd.DataFrame(Data_used, columns= ['Pregnancies','Glucose','BloodPressure','SkinThickness','Insulin','BMI','DiabetesPedigreeFunction','Age','Outcome'])"
   ]
  },
  {
   "cell_type": "code",
   "execution_count": 92,
   "id": "3fdbfaf1",
   "metadata": {},
   "outputs": [],
   "source": [
    "#Separating the attributes and targets or classes\n",
    "#let's define the variables dfX and sy from df to hold the attributes and labels. \n",
    "dfX = df.drop(columns = ['Outcome'])\n",
    "sy = df.Outcome"
   ]
  },
  {
   "cell_type": "code",
   "execution_count": 93,
   "id": "aea2f640",
   "metadata": {},
   "outputs": [],
   "source": [
    "#Now split dfX into a training set(X_train) and a test set(X_test)\n",
    "# and sy into a training set(sy_train) and a test set(sy_test).\n",
    "from sklearn.model_selection import train_test_split\n",
    "dfX_train, dfX_test, sy_train, sy_test= train_test_split(dfX,sy)"
   ]
  },
  {
   "cell_type": "code",
   "execution_count": 94,
   "id": "1280c599",
   "metadata": {},
   "outputs": [
    {
     "data": {
      "text/plain": [
       "(     Pregnancies  Glucose  BloodPressure  SkinThickness  Insulin   BMI  \\\n",
       " 133            8       84             74             31        0  38.3   \n",
       " 99             1      122             90             51      220  49.7   \n",
       " 84             5      137            108              0        0  48.8   \n",
       " 119            4       99             76             15       51  23.2   \n",
       " 151            4      114             65              0        0  21.9   \n",
       " ..           ...      ...            ...            ...      ...   ...   \n",
       " 122            2      107             74             30      100  33.6   \n",
       " 176            6       85             78              0        0  31.2   \n",
       " 107            4      144             58             28      140  29.5   \n",
       " 24            11      143             94             33      146  36.6   \n",
       " 43             9      171            110             24      240  45.4   \n",
       " \n",
       "      DiabetesPedigreeFunction  Age  \n",
       " 133                     0.457   39  \n",
       " 99                      0.325   31  \n",
       " 84                      0.227   37  \n",
       " 119                     0.223   21  \n",
       " 151                     0.432   37  \n",
       " ..                        ...  ...  \n",
       " 122                     0.404   23  \n",
       " 176                     0.382   42  \n",
       " 107                     0.287   37  \n",
       " 24                      0.254   51  \n",
       " 43                      0.721   54  \n",
       " \n",
       " [150 rows x 8 columns],\n",
       "      Pregnancies  Glucose  BloodPressure  SkinThickness  Insulin   BMI  \\\n",
       " 173            1       79             60             42       48  43.5   \n",
       " 4              0      137             40             35      168  43.1   \n",
       " 148            5      147             78              0        0  33.7   \n",
       " 77             5       95             72             33        0  37.7   \n",
       " 179            5      130             82              0        0  39.1   \n",
       " 136            0      100             70             26       50  30.8   \n",
       " 108            3       83             58             31       18  34.3   \n",
       " 12            10      139             80              0        0  27.1   \n",
       " 17             7      107             74              0        0  29.6   \n",
       " 28            13      145             82             19      110  22.2   \n",
       " 16             0      118             84             47      230  45.8   \n",
       " 88            15      136             70             32      110  37.1   \n",
       " 60             2       84              0              0        0   0.0   \n",
       " 142            2      108             52             26       63  32.5   \n",
       " 135            2      125             60             20      140  33.8   \n",
       " 98             6       93             50             30       64  28.7   \n",
       " 27             1       97             66             15      140  23.2   \n",
       " 177            0      129            110             46      130  67.1   \n",
       " 197            3      107             62             13       48  22.9   \n",
       " 199            4      148             60             27      318  30.9   \n",
       " 125            1       88             30             42       99  55.0   \n",
       " 29             5      117             92              0        0  34.1   \n",
       " 42             7      106             92             18        0  22.7   \n",
       " 161            7      102             74             40      105  37.2   \n",
       " 145            0      102             75             23        0   0.0   \n",
       " 95             6      144             72             27      228  33.9   \n",
       " 46             1      146             56              0        0  29.7   \n",
       " 63             2      141             58             34      128  25.4   \n",
       " 62             5       44             62              0        0  25.0   \n",
       " 169            3      111             90             12       78  28.4   \n",
       " 121            6      111             64             39        0  34.2   \n",
       " 96             2       92             62             28        0  31.6   \n",
       " 140            3      128             78              0        0  21.1   \n",
       " 91             4      123             80             15      176  32.0   \n",
       " 32             3       88             58             11       54  24.8   \n",
       " 52             5       88             66             21       23  24.4   \n",
       " 8              2      197             70             45      543  30.5   \n",
       " 116            5      124             74              0        0  34.0   \n",
       " 75             1        0             48             20        0  24.7   \n",
       " 69             4      146             85             27      100  28.9   \n",
       " 14             5      166             72             19      175  25.8   \n",
       " 112            1       89             76             34       37  31.2   \n",
       " 193           11      135              0              0        0  52.3   \n",
       " 85             2      110             74             29      125  32.4   \n",
       " 47             2       71             70             27        0  28.0   \n",
       " 118            4       97             60             23        0  28.2   \n",
       " 83             0      101             65             28        0  24.6   \n",
       " 168            4      110             66              0        0  31.9   \n",
       " 187            1      128             98             41       58  32.0   \n",
       " 198            4      109             64             44       99  34.8   \n",
       " \n",
       "      DiabetesPedigreeFunction  Age  \n",
       " 173                     0.678   23  \n",
       " 4                       2.288   33  \n",
       " 148                     0.218   65  \n",
       " 77                      0.370   27  \n",
       " 179                     0.956   37  \n",
       " 136                     0.597   21  \n",
       " 108                     0.336   25  \n",
       " 12                      1.441   57  \n",
       " 17                      0.254   31  \n",
       " 28                      0.245   57  \n",
       " 16                      0.551   31  \n",
       " 88                      0.153   43  \n",
       " 60                      0.304   21  \n",
       " 142                     0.318   22  \n",
       " 135                     0.088   31  \n",
       " 98                      0.356   23  \n",
       " 27                      0.487   22  \n",
       " 177                     0.319   26  \n",
       " 197                     0.678   23  \n",
       " 199                     0.150   29  \n",
       " 125                     0.496   26  \n",
       " 29                      0.337   38  \n",
       " 42                      0.235   48  \n",
       " 161                     0.204   45  \n",
       " 145                     0.572   21  \n",
       " 95                      0.255   40  \n",
       " 46                      0.564   29  \n",
       " 63                      0.699   24  \n",
       " 62                      0.587   36  \n",
       " 169                     0.495   29  \n",
       " 121                     0.260   24  \n",
       " 96                      0.130   24  \n",
       " 140                     0.268   55  \n",
       " 91                      0.443   34  \n",
       " 32                      0.267   22  \n",
       " 52                      0.342   30  \n",
       " 8                       0.158   53  \n",
       " 116                     0.220   38  \n",
       " 75                      0.140   22  \n",
       " 69                      0.189   27  \n",
       " 14                      0.587   51  \n",
       " 112                     0.192   23  \n",
       " 193                     0.578   40  \n",
       " 85                      0.698   27  \n",
       " 47                      0.586   22  \n",
       " 118                     0.443   22  \n",
       " 83                      0.237   22  \n",
       " 168                     0.471   29  \n",
       " 187                     1.321   33  \n",
       " 198                     0.905   26  ,\n",
       " 133    0\n",
       " 99     1\n",
       " 84     1\n",
       " 119    0\n",
       " 151    0\n",
       "       ..\n",
       " 122    0\n",
       " 176    0\n",
       " 107    0\n",
       " 24     1\n",
       " 43     1\n",
       " Name: Outcome, Length: 150, dtype: int64,\n",
       " 173    0\n",
       " 4      1\n",
       " 148    0\n",
       " 77     0\n",
       " 179    1\n",
       " 136    0\n",
       " 108    0\n",
       " 12     0\n",
       " 17     1\n",
       " 28     0\n",
       " 16     1\n",
       " 88     1\n",
       " 60     0\n",
       " 142    0\n",
       " 135    0\n",
       " 98     0\n",
       " 27     0\n",
       " 177    1\n",
       " 197    1\n",
       " 199    1\n",
       " 125    1\n",
       " 29     0\n",
       " 42     0\n",
       " 161    0\n",
       " 145    0\n",
       " 95     0\n",
       " 46     0\n",
       " 63     0\n",
       " 62     0\n",
       " 169    0\n",
       " 121    0\n",
       " 96     0\n",
       " 140    0\n",
       " 91     0\n",
       " 32     0\n",
       " 52     0\n",
       " 8      1\n",
       " 116    1\n",
       " 75     0\n",
       " 69     0\n",
       " 14     1\n",
       " 112    0\n",
       " 193    1\n",
       " 85     0\n",
       " 47     0\n",
       " 118    0\n",
       " 83     0\n",
       " 168    0\n",
       " 187    1\n",
       " 198    1\n",
       " Name: Outcome, dtype: int64)"
      ]
     },
     "execution_count": 94,
     "metadata": {},
     "output_type": "execute_result"
    }
   ],
   "source": [
    "dfX_train, dfX_test, sy_train, sy_test"
   ]
  },
  {
   "cell_type": "code",
   "execution_count": 95,
   "id": "3a667dfe",
   "metadata": {},
   "outputs": [],
   "source": [
    "# Data preprocessing.\n",
    "from sklearn import preprocessing\n",
    "#define the label encoder\n",
    "le = preprocessing.LabelEncoder()"
   ]
  },
  {
   "cell_type": "code",
   "execution_count": 96,
   "id": "61d00110",
   "metadata": {},
   "outputs": [
    {
     "data": {
      "text/plain": [
       "array([0, 1], dtype=int64)"
      ]
     },
     "execution_count": 96,
     "metadata": {},
     "output_type": "execute_result"
    }
   ],
   "source": [
    "# fit the label encoder\n",
    "le = le.fit(sy_train)\n",
    "le.classes_"
   ]
  },
  {
   "cell_type": "code",
   "execution_count": 98,
   "id": "d1e83554",
   "metadata": {},
   "outputs": [
    {
     "data": {
      "text/plain": [
       "(133    0\n",
       " 99     1\n",
       " 84     1\n",
       " 119    0\n",
       " 151    0\n",
       "       ..\n",
       " 122    0\n",
       " 176    0\n",
       " 107    0\n",
       " 24     1\n",
       " 43     1\n",
       " Name: Outcome, Length: 150, dtype: int64,\n",
       " array([0, 1, 1, 0, 0, 1, 0, 1, 0, 1, 0, 1, 0, 1, 1, 1, 0, 0, 1, 1, 0, 0,\n",
       "        1, 1, 0, 0, 1, 0, 1, 0, 1, 1, 1, 1, 0, 1, 0, 1, 0, 0, 0, 0, 0, 0,\n",
       "        0, 0, 1, 0, 0, 0, 0, 0, 0, 1, 0, 1, 0, 0, 1, 0, 0, 1, 1, 1, 0, 1,\n",
       "        0, 0, 0, 1, 1, 0, 0, 1, 0, 0, 1, 0, 0, 0, 1, 0, 0, 0, 0, 1, 0, 0,\n",
       "        0, 1, 0, 0, 1, 0, 0, 1, 1, 0, 0, 0, 0, 1, 0, 0, 1, 0, 0, 0, 0, 1,\n",
       "        0, 0, 0, 1, 1, 0, 1, 1, 1, 1, 0, 1, 0, 0, 0, 1, 1, 1, 0, 0, 0, 0,\n",
       "        0, 0, 1, 0, 0, 0, 1, 1, 1, 1, 0, 0, 1, 0, 0, 0, 1, 1], dtype=int64))"
      ]
     },
     "execution_count": 98,
     "metadata": {},
     "output_type": "execute_result"
    }
   ],
   "source": [
    "#transform labels into numbers\n",
    "y_train = le.transform(sy_train)\n",
    "sy_train, y_train"
   ]
  },
  {
   "cell_type": "code",
   "execution_count": 99,
   "id": "480bb34c",
   "metadata": {},
   "outputs": [
    {
     "data": {
      "text/plain": [
       "array([[  8.   ,  84.   ,  74.   , ...,  38.3  ,   0.457,  39.   ],\n",
       "       [  1.   , 122.   ,  90.   , ...,  49.7  ,   0.325,  31.   ],\n",
       "       [  5.   , 137.   , 108.   , ...,  48.8  ,   0.227,  37.   ],\n",
       "       ...,\n",
       "       [  4.   , 144.   ,  58.   , ...,  29.5  ,   0.287,  37.   ],\n",
       "       [ 11.   , 143.   ,  94.   , ...,  36.6  ,   0.254,  51.   ],\n",
       "       [  9.   , 171.   , 110.   , ...,  45.4  ,   0.721,  54.   ]])"
      ]
     },
     "execution_count": 99,
     "metadata": {},
     "output_type": "execute_result"
    }
   ],
   "source": [
    "#Preprocessing attributes with MinMaxscaler()\n",
    "dfX_train.to_numpy()"
   ]
  },
  {
   "cell_type": "code",
   "execution_count": 100,
   "id": "9633bcd7",
   "metadata": {},
   "outputs": [
    {
     "data": {
      "text/plain": [
       "array([[0.47058824, 0.42857143, 0.60655738, ..., 0.71992481, 0.20619127,\n",
       "        0.375     ],\n",
       "       [0.05882353, 0.62244898, 0.73770492, ..., 0.93421053, 0.13322278,\n",
       "        0.20833333],\n",
       "       [0.29411765, 0.69897959, 0.8852459 , ..., 0.91729323, 0.0790492 ,\n",
       "        0.33333333],\n",
       "       ...,\n",
       "       [0.23529412, 0.73469388, 0.47540984, ..., 0.55451128, 0.11221669,\n",
       "        0.33333333],\n",
       "       [0.64705882, 0.72959184, 0.7704918 , ..., 0.68796992, 0.09397457,\n",
       "        0.625     ],\n",
       "       [0.52941176, 0.87244898, 0.90163934, ..., 0.85338346, 0.35212825,\n",
       "        0.6875    ]])"
      ]
     },
     "execution_count": 100,
     "metadata": {},
     "output_type": "execute_result"
    }
   ],
   "source": [
    "#Create an array X with normalized attribute values.\n",
    "# define preprocessing tool\n",
    "nl = preprocessing.MinMaxScaler()\n",
    "#fit\n",
    "nl = nl.fit(dfX_train.to_numpy())\n",
    "# Apply to transform\n",
    "X_train = nl.transform(dfX_train.to_numpy())\n",
    "X_train"
   ]
  },
  {
   "cell_type": "code",
   "execution_count": 101,
   "id": "b68e0f09",
   "metadata": {},
   "outputs": [
    {
     "data": {
      "text/plain": [
       "KNeighborsClassifier(n_neighbors=1)"
      ]
     },
     "execution_count": 101,
     "metadata": {},
     "output_type": "execute_result"
    }
   ],
   "source": [
    "#Import\n",
    "from sklearn.neighbors import KNeighborsClassifier\n",
    "# define\n",
    "knn = KNeighborsClassifier(n_neighbors = 1)\n",
    "# fit\n",
    "knn = knn.fit(X_train,y_train)\n",
    "knn"
   ]
  },
  {
   "cell_type": "code",
   "execution_count": 103,
   "id": "d19b1206",
   "metadata": {},
   "outputs": [],
   "source": [
    "# preprocess the datasets dfX_test and sy_test\n",
    "y_test = le.transform(sy_test.to_numpy())"
   ]
  },
  {
   "cell_type": "code",
   "execution_count": 104,
   "id": "2d50faad",
   "metadata": {},
   "outputs": [],
   "source": [
    "X_test = nl.transform(dfX_test.to_numpy())"
   ]
  },
  {
   "cell_type": "code",
   "execution_count": 105,
   "id": "fc283575",
   "metadata": {},
   "outputs": [
    {
     "data": {
      "text/plain": [
       "array([1, 1, 0, 1, 0, 0, 1, 1, 1, 1, 1, 1, 0, 0, 0, 1, 0, 1, 0, 0, 0, 1,\n",
       "       0, 0, 0, 0, 0, 0, 0, 0, 1, 0, 1, 1, 0, 0, 1, 1, 0, 1, 1, 0, 0, 1,\n",
       "       0, 0, 0, 0, 0, 1], dtype=int64)"
      ]
     },
     "execution_count": 105,
     "metadata": {},
     "output_type": "execute_result"
    }
   ],
   "source": [
    "# predict the class\n",
    "knn.predict(X_test)"
   ]
  },
  {
   "cell_type": "code",
   "execution_count": 107,
   "id": "2423a473",
   "metadata": {},
   "outputs": [
    {
     "data": {
      "text/plain": [
       "0.64"
      ]
     },
     "execution_count": 107,
     "metadata": {},
     "output_type": "execute_result"
    }
   ],
   "source": [
    "#fraction of instances correctly predicted\n",
    "knn.score(X_test, y_test)"
   ]
  },
  {
   "cell_type": "code",
   "execution_count": 108,
   "id": "dbd14434",
   "metadata": {},
   "outputs": [
    {
     "data": {
      "text/plain": [
       "1.0"
      ]
     },
     "execution_count": 108,
     "metadata": {},
     "output_type": "execute_result"
    }
   ],
   "source": [
    "knn.score(X_train, y_train)"
   ]
  },
  {
   "cell_type": "markdown",
   "id": "2a6fa7c6",
   "metadata": {},
   "source": [
    "## Task 2\n",
    "\n",
    "#### we used a loop to try every k value from 1 to 149 since our training set is of size 150"
   ]
  },
  {
   "cell_type": "code",
   "execution_count": 76,
   "id": "da601f56",
   "metadata": {},
   "outputs": [
    {
     "data": {
      "image/png": "[encoded data removed]",
      "text/plain": [
       "<Figure size 432x288 with 1 Axes>"
      ]
     },
     "metadata": {
      "needs_background": "light"
     },
     "output_type": "display_data"
    }
   ],
   "source": [
    "\n",
    "Min_Max_accuracy_X = []\n",
    "Min_Max_accuracy_Y = []\n",
    "Min_Max_accuracy_Y_train = [] \n",
    "\n",
    "#since we are using 150 training rows we will try k values from 1 to 149\n",
    "i = 1 \n",
    "while i<149:\n",
    "    Min_Max_accuracy_X.append(i)\n",
    "    knn = KNeighborsClassifier(n_neighbors = i)\n",
    "    knn = knn.fit(X_train,y_train)\n",
    "    Min_Max_accuracy_Y.append(knn.score(X_test, y_test)) #this adds the accuraccy of a given number of neighbours\n",
    "    Min_Max_accuracy_Y_train.append(knn.score(X_train, y_train))\n",
    "\n",
    "    i += 1\n",
    "    \n",
    "fig, ax = plt.subplots()\n",
    "X_minmax = np.array(Min_Max_accuracy_X)\n",
    "Y_minmax = np.array(Min_Max_accuracy_Y)\n",
    "Y_minmax_train = np.array(Min_Max_accuracy_Y_train)\n",
    "\n",
    "ax.scatter(X_minmax, Y_minmax_train, c='r', label='Train score')\n",
    "ax.scatter(X_minmax, Y_minmax, c='b', label='Test score')\n",
    "\n",
    "\n",
    "plt.xlabel(\"number of neighbours\")\n",
    "plt.ylabel(\"Score\")\n",
    "plt.legend()\n",
    "plt.show()\n"
   ]
  },
  {
   "cell_type": "markdown",
   "id": "932aa2d8",
   "metadata": {},
   "source": [
    "#### The next segment uses numpy functions to locate the most accurate number of neighbours to use for the highest test set score"
   ]
  },
  {
   "cell_type": "code",
   "execution_count": 77,
   "id": "edc56523",
   "metadata": {},
   "outputs": [
    {
     "data": {
      "text/plain": [
       "((array([28, 29, 30, 32, 33, 34, 35, 36, 37, 39, 40], dtype=int64),), 0.78)"
      ]
     },
     "execution_count": 77,
     "metadata": {},
     "output_type": "execute_result"
    }
   ],
   "source": [
    "best_accuracy = np.amax(Y_minmax) #ths shows best test scores ignoring training score\n",
    "index_best = np.where(Y_minmax==best_accuracy)\n",
    "index_best, best_accuracy #please note that a given index is 1 less than the actual number of neighbours used"
   ]
  },
  {
   "cell_type": "markdown",
   "id": "f3d08ed8",
   "metadata": {},
   "source": [
    "#### please dont mind the different values used in the index as each fresh run for the code changes both the max value and which number of neighbours is best to use"
   ]
  },
  {
   "cell_type": "code",
   "execution_count": 78,
   "id": "2f20ae44",
   "metadata": {},
   "outputs": [
    {
     "data": {
      "text/plain": [
       "(17, 0.7066666666666667, 0.74)"
      ]
     },
     "execution_count": 78,
     "metadata": {},
     "output_type": "execute_result"
    }
   ],
   "source": [
    "X_minmax[16], Y_minmax_train[16], Y_minmax[16]"
   ]
  },
  {
   "cell_type": "code",
   "execution_count": 79,
   "id": "6e60fb22",
   "metadata": {},
   "outputs": [
    {
     "data": {
      "text/plain": [
       "(19, 0.7533333333333333, 0.76)"
      ]
     },
     "execution_count": 79,
     "metadata": {},
     "output_type": "execute_result"
    }
   ],
   "source": [
    "X_minmax[18], Y_minmax_train[18], Y_minmax[18]"
   ]
  },
  {
   "cell_type": "markdown",
   "id": "4d741648",
   "metadata": {},
   "source": [
    "## Task 2b\n",
    "\n",
    "#### we used the second method in the lecture to obtain the standard scaler processed values"
   ]
  },
  {
   "cell_type": "code",
   "execution_count": 80,
   "id": "01a06ad3",
   "metadata": {},
   "outputs": [
    {
     "data": {
      "text/plain": [
       "0.6"
      ]
     },
     "execution_count": 80,
     "metadata": {},
     "output_type": "execute_result"
    }
   ],
   "source": [
    "stand = preprocessing.StandardScaler()\n",
    "standfitted = stand.fit(dfX_train.to_numpy())\n",
    "X_train_p = (dfX_train - dfX_train.mean())/ (dfX_train.std(ddof=1))\n",
    "X_test_p = (dfX_test - dfX_test.mean())/ (dfX_test.std(ddof=1))\n",
    "\n",
    "knn = KNeighborsClassifier(n_neighbors = 1)\n",
    "knn = knn.fit(X_train_p, y_train)\n",
    "knn.score(X_test_p, y_test)\n"
   ]
  },
  {
   "cell_type": "markdown",
   "id": "4f6f34a5",
   "metadata": {},
   "source": [
    "### We used a loop to try every k value from 1 to 149 since our training set is of size 150"
   ]
  },
  {
   "cell_type": "code",
   "execution_count": 81,
   "id": "94786fda",
   "metadata": {},
   "outputs": [
    {
     "data": {
      "image/png": "[encoded data removed]",
      "text/plain": [
       "<Figure size 432x288 with 1 Axes>"
      ]
     },
     "metadata": {
      "needs_background": "light"
     },
     "output_type": "display_data"
    }
   ],
   "source": [
    "Stan_scale_accuracy_X = []\n",
    "Stan_scale_accuracy_Y = []\n",
    "Stan_scale_accuracy_Y_train = [] \n",
    "\n",
    "#since we are using 150 training rows we will try k values from 1 to 149\n",
    "i = 1 \n",
    "while i<149:\n",
    "    Stan_scale_accuracy_X.append(i)\n",
    "    knn = KNeighborsClassifier(n_neighbors = i)\n",
    "    knn = knn.fit(X_train_p, y_train)\n",
    "    Stan_scale_accuracy_Y.append(knn.score(X_test_p, y_test)) #this adds the accuraccy of a given number of neighbours\n",
    "    Stan_scale_accuracy_Y_train.append(knn.score(X_train_p, y_train))\n",
    "    i += 1\n",
    "    \n",
    "fig, ax = plt.subplots()\n",
    "X_stan = np.array(Stan_scale_accuracy_X)\n",
    "Y_stan = np.array(Stan_scale_accuracy_Y)\n",
    "Y_stan_train = np.array(Stan_scale_accuracy_Y_train)\n",
    "\n",
    "ax.scatter(X_stan, Y_stan_train, c='r', label='Train score')\n",
    "ax.scatter(X_stan, Y_stan, c='b', label='Test score')\n",
    "\n",
    "\n",
    "plt.xlabel(\"number of neighbours\")\n",
    "plt.ylabel(\"Score\")\n",
    "plt.legend()\n",
    "plt.show()"
   ]
  },
  {
   "cell_type": "markdown",
   "id": "6da85af7",
   "metadata": {},
   "source": [
    "### The next segment uses numpy functions to locate the most accurate number of neighbours to use for the highest test set score"
   ]
  },
  {
   "cell_type": "code",
   "execution_count": 82,
   "id": "c6018a00",
   "metadata": {},
   "outputs": [
    {
     "data": {
      "text/plain": [
       "((array([38], dtype=int64),), 0.84)"
      ]
     },
     "execution_count": 82,
     "metadata": {},
     "output_type": "execute_result"
    }
   ],
   "source": [
    "best_accuracy = np.amax(Y_stan) #ths shows best test scores ignoring training score\n",
    "index_best = np.where(Y_stan==best_accuracy)\n",
    "index_best, best_accuracy #please note that a given index is 1 less than the actual number of neighbours used"
   ]
  },
  {
   "cell_type": "markdown",
   "id": "bd1c2aed",
   "metadata": {},
   "source": [
    "#### please dont mind the different values used in the index as each fresh run for the code changes both the max value and which number of neighbours is best to use"
   ]
  },
  {
   "cell_type": "code",
   "execution_count": 88,
   "id": "d73af0d4",
   "metadata": {},
   "outputs": [
    {
     "data": {
      "text/plain": [
       "(39, 0.74, 0.84)"
      ]
     },
     "execution_count": 88,
     "metadata": {},
     "output_type": "execute_result"
    }
   ],
   "source": [
    "X_stan[38], Y_stan_train[38], Y_stan[38]"
   ]
  },
  {
   "cell_type": "markdown",
   "id": "76cbdee2",
   "metadata": {},
   "source": [
    "# Task 3 \n",
    "\n",
    "### Because Standard scaling has a significantly higher test set score ,  we will use Standard scaling\n",
    "\n",
    "#### we will choose the value with index 38 because of its higher training score compared to other k values with a maximum test score\n",
    "\n",
    "### meaning our best value for k is 39, with  a training score of 0.74 and a test score of 0.84"
   ]
  },
  {
   "cell_type": "markdown",
   "id": "ca3dc975",
   "metadata": {},
   "source": [
    "# Task 3b"
   ]
  },
  {
   "cell_type": "code",
   "execution_count": 90,
   "id": "49c5347a",
   "metadata": {},
   "outputs": [
    {
     "data": {
      "image/png": "[encoded data removed]",
      "text/plain": [
       "<Figure size 432x288 with 1 Axes>"
      ]
     },
     "metadata": {
      "needs_background": "light"
     },
     "output_type": "display_data"
    }
   ],
   "source": [
    "#confusion matrix\n",
    "\n",
    "knn = KNeighborsClassifier(n_neighbors = 39)\n",
    "knn = knn.fit(X_train_p, y_train)\n",
    "\n",
    "from sklearn.metrics import confusion_matrix\n",
    "\n",
    "mat = confusion_matrix(y_test, knn.predict(X_test_p))\n",
    "\n",
    "\n",
    "labels = ['not diabetic', 'diabetic']\n",
    "\n",
    "sns.heatmap(mat, square=True, annot=True, cbar=False, \n",
    "            xticklabels=labels,\n",
    "            yticklabels=labels)\n",
    "plt.xlabel('predicted value')\n",
    "plt.ylabel('true value')\n",
    "plt.title('Standard Scaler method usin k = 39');"
   ]
  },
  {
   "cell_type": "markdown",
   "id": "d4c6a0fa",
   "metadata": {},
   "source": [
    "#### There are 2 cases where the classifier says diabetic, but these patients are not diabetic. These are false positives - we diagnose Diabetes when there is none.\n",
    "\n",
    "#### There are 6 cases where the classifier says not diabetic, but these patients are diabetic. These are false negatives - we do not diagnose Diabetes when there actually is.\n"
   ]
  },
  {
   "cell_type": "markdown",
   "id": "6b713672",
   "metadata": {},
   "source": [
    "# Task 4\n",
    "\n",
    "#### we wanted to test 2 new instances so we used a loop to apply the standard scaling to the attributes of those 2 nstances before plugging them in the model"
   ]
  },
  {
   "cell_type": "code",
   "execution_count": 86,
   "id": "3b1c44a4",
   "metadata": {},
   "outputs": [
    {
     "data": {
      "text/plain": [
       "[Pregnancies                 0.593732\n",
       " Glucose                    -0.003148\n",
       " BloodPressure              -0.881419\n",
       " SkinThickness              -0.025275\n",
       " Insulin                     0.732652\n",
       " BMI                        -0.582508\n",
       " DiabetesPedigreeFunction    2.680944\n",
       " Age                         0.102265\n",
       " dtype: float64,\n",
       " Pregnancies                -0.593732\n",
       " Glucose                     0.846769\n",
       " BloodPressure               0.489209\n",
       " SkinThickness               0.757054\n",
       " Insulin                     0.883369\n",
       " BMI                         0.707564\n",
       " DiabetesPedigreeFunction   -0.389218\n",
       " Age                        -0.262968\n",
       " dtype: float64]"
      ]
     },
     "execution_count": 86,
     "metadata": {},
     "output_type": "execute_result"
    }
   ],
   "source": [
    "new_example_rawdata =[[6, 119, 50, 22, 176, 27.1, 1.318, 33], [2, 146, 76, 35, 194, 38.2, 0.329, 29\n",
    "]]\n",
    "new_numpy = np.array(new_example_rawdata)\n",
    "X_new = []\n",
    "i = 0\n",
    "while i < 2:\n",
    "    X_new.append((new_numpy[i] - dfX_test.mean())/ (dfX_test.std(ddof=1)))\n",
    "    i += 1"
   ]
  },
  {
   "cell_type": "code",
   "execution_count": 109,
   "id": "ddec632f",
   "metadata": {},
   "outputs": [
    {
     "data": {
      "text/plain": [
       "array([0, 0], dtype=int64)"
      ]
     },
     "execution_count": 109,
     "metadata": {},
     "output_type": "execute_result"
    }
   ],
   "source": [
    "knn.predict(X_new)"
   ]
  },
  {
   "cell_type": "markdown",
   "id": "90a27482",
   "metadata": {},
   "source": [
    "### since we did not use the entire 760 rows in the original dataset these values are from rows we did not include when importing the list from excel\n",
    "\n",
    "#### our model was able to predict the second instance correctly as not diabetes, and got a false negative for the first instance given as part of array X_new"
   ]
  }
 ],
 "metadata": {
  "kernelspec": {
   "display_name": "Python 3",
   "language": "python",
   "name": "python3"
  },
  "language_info": {
   "codemirror_mode": {
    "name": "ipython",
    "version": 3
   },
   "file_extension": ".py",
   "mimetype": "text/x-python",
   "name": "python",
   "nbconvert_exporter": "python",
   "pygments_lexer": "ipython3",
   "version": "3.8.8"
  }
 },
 "nbformat": 4,
 "nbformat_minor": 5
}
